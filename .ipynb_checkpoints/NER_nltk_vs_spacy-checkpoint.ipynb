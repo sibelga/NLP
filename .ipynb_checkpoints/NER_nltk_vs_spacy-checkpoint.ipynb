{
 "cells": [
  {
   "cell_type": "code",
   "execution_count": 38,
   "metadata": {},
   "outputs": [],
   "source": [
    "import nltk\n",
    "from nltk.tokenize import word_tokenize\n",
    "from nltk.tag import pos_tag\n",
    "import spacy\n",
    "nlp = spacy.load('en_core_web_sm')\n",
    "#nltk.download()"
   ]
  },
  {
   "cell_type": "code",
   "execution_count": 39,
   "metadata": {
    "collapsed": true
   },
   "outputs": [],
   "source": [
    "ex = 'European authorities fined Google a record $5.1 billion on Wednesday for abusing its power in the mobile phone market and ordered the company to alter its practices'"
   ]
  },
  {
   "cell_type": "code",
   "execution_count": 40,
   "metadata": {
    "collapsed": true
   },
   "outputs": [],
   "source": [
    "#Then we apply word tokenization and part-of-speech tagging to the sentence.\n",
    "def preprocess(sent):\n",
    "    sent = nltk.word_tokenize(sent)\n",
    "    sent = nltk.pos_tag(sent)\n",
    "    return sent"
   ]
  },
  {
   "cell_type": "code",
   "execution_count": 41,
   "metadata": {},
   "outputs": [
    {
     "data": {
      "text/plain": [
       "[('European', 'JJ'),\n",
       " ('authorities', 'NNS'),\n",
       " ('fined', 'VBD'),\n",
       " ('Google', 'NNP'),\n",
       " ('a', 'DT'),\n",
       " ('record', 'NN'),\n",
       " ('$', '$'),\n",
       " ('5.1', 'CD'),\n",
       " ('billion', 'CD'),\n",
       " ('on', 'IN'),\n",
       " ('Wednesday', 'NNP'),\n",
       " ('for', 'IN'),\n",
       " ('abusing', 'VBG'),\n",
       " ('its', 'PRP$'),\n",
       " ('power', 'NN'),\n",
       " ('in', 'IN'),\n",
       " ('the', 'DT'),\n",
       " ('mobile', 'JJ'),\n",
       " ('phone', 'NN'),\n",
       " ('market', 'NN'),\n",
       " ('and', 'CC'),\n",
       " ('ordered', 'VBD'),\n",
       " ('the', 'DT'),\n",
       " ('company', 'NN'),\n",
       " ('to', 'TO'),\n",
       " ('alter', 'VB'),\n",
       " ('its', 'PRP$'),\n",
       " ('practices', 'NNS')]"
      ]
     },
     "execution_count": 41,
     "metadata": {},
     "output_type": "execute_result"
    }
   ],
   "source": [
    "preprocess(ex)"
   ]
  },
  {
   "cell_type": "code",
   "execution_count": 42,
   "metadata": {},
   "outputs": [
    {
     "data": {
      "text/plain": [
       "[('European', 'ADJ', 'JJ'),\n",
       " ('authorities', 'NOUN', 'NNS'),\n",
       " ('fined', 'VERB', 'VBD'),\n",
       " ('Google', 'PROPN', 'NNP'),\n",
       " ('a', 'DET', 'DT'),\n",
       " ('record', 'NOUN', 'NN'),\n",
       " ('$', 'SYM', '$'),\n",
       " ('5.1', 'NUM', 'CD'),\n",
       " ('billion', 'NUM', 'CD'),\n",
       " ('on', 'ADP', 'IN'),\n",
       " ('Wednesday', 'PROPN', 'NNP'),\n",
       " ('for', 'ADP', 'IN'),\n",
       " ('abusing', 'VERB', 'VBG'),\n",
       " ('its', 'ADJ', 'PRP$'),\n",
       " ('power', 'NOUN', 'NN'),\n",
       " ('in', 'ADP', 'IN'),\n",
       " ('the', 'DET', 'DT'),\n",
       " ('mobile', 'ADJ', 'JJ'),\n",
       " ('phone', 'NOUN', 'NN'),\n",
       " ('market', 'NOUN', 'NN'),\n",
       " ('and', 'CCONJ', 'CC'),\n",
       " ('ordered', 'VERB', 'VBD'),\n",
       " ('the', 'DET', 'DT'),\n",
       " ('company', 'NOUN', 'NN'),\n",
       " ('to', 'PART', 'TO'),\n",
       " ('alter', 'VERB', 'VB'),\n",
       " ('its', 'ADJ', 'PRP$'),\n",
       " ('practices', 'NOUN', 'NNS')]"
      ]
     },
     "execution_count": 42,
     "metadata": {},
     "output_type": "execute_result"
    }
   ],
   "source": [
    "doc=nlp(ex)\n",
    "[(token.text,token.pos_,token.tag_) for token in doc]"
   ]
  },
  {
   "cell_type": "code",
   "execution_count": 11,
   "metadata": {},
   "outputs": [],
   "source": [
    "import spacy\n",
    "# Load English tokenizer, tagger, parser, NER and word vectors\n",
    "nlp = spacy.load('en_core_web_sm')"
   ]
  },
  {
   "cell_type": "code",
   "execution_count": 13,
   "metadata": {
    "collapsed": true
   },
   "outputs": [],
   "source": [
    "from spacy.tokenizer import Tokenizer\n",
    "tokenizer = Tokenizer(nlp.vocab)\n"
   ]
  },
  {
   "cell_type": "code",
   "execution_count": 45,
   "metadata": {},
   "outputs": [],
   "source": [
    "toto=tokenizer(ex)"
   ]
  },
  {
   "cell_type": "code",
   "execution_count": 50,
   "metadata": {},
   "outputs": [
    {
     "data": {
      "text/plain": [
       "[European,\n",
       " authorities,\n",
       " fined,\n",
       " Google,\n",
       " a,\n",
       " record,\n",
       " billion,\n",
       " on,\n",
       " Wednesday,\n",
       " for,\n",
       " abusing,\n",
       " its,\n",
       " power,\n",
       " in,\n",
       " the,\n",
       " mobile,\n",
       " phone,\n",
       " market,\n",
       " and,\n",
       " ordered,\n",
       " the,\n",
       " company,\n",
       " to,\n",
       " alter,\n",
       " its,\n",
       " practices]"
      ]
     },
     "execution_count": 50,
     "metadata": {},
     "output_type": "execute_result"
    }
   ],
   "source": [
    "[t for t in toto if t.is_alpha]"
   ]
  },
  {
   "cell_type": "code",
   "execution_count": null,
   "metadata": {
    "collapsed": true
   },
   "outputs": [],
   "source": []
  }
 ],
 "metadata": {
  "kernelspec": {
   "display_name": "Python 3",
   "language": "python",
   "name": "python3"
  },
  "language_info": {
   "codemirror_mode": {
    "name": "ipython",
    "version": 3
   },
   "file_extension": ".py",
   "mimetype": "text/x-python",
   "name": "python",
   "nbconvert_exporter": "python",
   "pygments_lexer": "ipython3",
   "version": "3.6.3"
  }
 },
 "nbformat": 4,
 "nbformat_minor": 2
}
