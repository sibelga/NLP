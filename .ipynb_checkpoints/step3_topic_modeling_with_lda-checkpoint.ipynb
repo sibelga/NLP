{
 "cells": [
  {
   "cell_type": "code",
   "execution_count": 36,
   "metadata": {},
   "outputs": [
    {
     "data": {
      "text/html": [
       "<div>\n",
       "<style scoped>\n",
       "    .dataframe tbody tr th:only-of-type {\n",
       "        vertical-align: middle;\n",
       "    }\n",
       "\n",
       "    .dataframe tbody tr th {\n",
       "        vertical-align: top;\n",
       "    }\n",
       "\n",
       "    .dataframe thead th {\n",
       "        text-align: right;\n",
       "    }\n",
       "</style>\n",
       "<table border=\"1\" class=\"dataframe\">\n",
       "  <thead>\n",
       "    <tr style=\"text-align: right;\">\n",
       "      <th></th>\n",
       "      <th>aajohn</th>\n",
       "      <th>abandon</th>\n",
       "      <th>abashed</th>\n",
       "      <th>abbot</th>\n",
       "      <th>abhor</th>\n",
       "      <th>abigail</th>\n",
       "      <th>ability</th>\n",
       "      <th>abject</th>\n",
       "      <th>abjection</th>\n",
       "      <th>able</th>\n",
       "      <th>...</th>\n",
       "      <th>zimmer</th>\n",
       "      <th>zip</th>\n",
       "      <th>zoe</th>\n",
       "      <th>zombies</th>\n",
       "      <th>zorina</th>\n",
       "      <th>zurich</th>\n",
       "      <th>zwingli</th>\n",
       "      <th>zwirner</th>\n",
       "      <th>zwirnersssscornelia</th>\n",
       "      <th>élan</th>\n",
       "    </tr>\n",
       "  </thead>\n",
       "  <tbody>\n",
       "    <tr>\n",
       "      <th>Cindy Sherman</th>\n",
       "      <td>0</td>\n",
       "      <td>5</td>\n",
       "      <td>0</td>\n",
       "      <td>0</td>\n",
       "      <td>5</td>\n",
       "      <td>14</td>\n",
       "      <td>0</td>\n",
       "      <td>39</td>\n",
       "      <td>5</td>\n",
       "      <td>40</td>\n",
       "      <td>...</td>\n",
       "      <td>0</td>\n",
       "      <td>5</td>\n",
       "      <td>19</td>\n",
       "      <td>10</td>\n",
       "      <td>18</td>\n",
       "      <td>0</td>\n",
       "      <td>0</td>\n",
       "      <td>0</td>\n",
       "      <td>0</td>\n",
       "      <td>0</td>\n",
       "    </tr>\n",
       "    <tr>\n",
       "      <th>Gerhard Richter</th>\n",
       "      <td>1</td>\n",
       "      <td>16</td>\n",
       "      <td>0</td>\n",
       "      <td>16</td>\n",
       "      <td>0</td>\n",
       "      <td>0</td>\n",
       "      <td>0</td>\n",
       "      <td>0</td>\n",
       "      <td>0</td>\n",
       "      <td>20</td>\n",
       "      <td>...</td>\n",
       "      <td>0</td>\n",
       "      <td>0</td>\n",
       "      <td>0</td>\n",
       "      <td>0</td>\n",
       "      <td>0</td>\n",
       "      <td>155</td>\n",
       "      <td>64</td>\n",
       "      <td>0</td>\n",
       "      <td>0</td>\n",
       "      <td>16</td>\n",
       "    </tr>\n",
       "    <tr>\n",
       "      <th>Bridget Riley</th>\n",
       "      <td>0</td>\n",
       "      <td>21</td>\n",
       "      <td>12</td>\n",
       "      <td>0</td>\n",
       "      <td>0</td>\n",
       "      <td>0</td>\n",
       "      <td>5</td>\n",
       "      <td>0</td>\n",
       "      <td>0</td>\n",
       "      <td>60</td>\n",
       "      <td>...</td>\n",
       "      <td>10</td>\n",
       "      <td>0</td>\n",
       "      <td>0</td>\n",
       "      <td>0</td>\n",
       "      <td>0</td>\n",
       "      <td>0</td>\n",
       "      <td>0</td>\n",
       "      <td>60</td>\n",
       "      <td>1</td>\n",
       "      <td>0</td>\n",
       "    </tr>\n",
       "  </tbody>\n",
       "</table>\n",
       "<p>3 rows × 9792 columns</p>\n",
       "</div>"
      ],
      "text/plain": [
       "                 aajohn  abandon  abashed  abbot  abhor  abigail  ability  \\\n",
       "Cindy Sherman         0        5        0      0      5       14        0   \n",
       "Gerhard Richter       1       16        0     16      0        0        0   \n",
       "Bridget Riley         0       21       12      0      0        0        5   \n",
       "\n",
       "                 abject  abjection  able  ...   zimmer  zip  zoe  zombies  \\\n",
       "Cindy Sherman        39          5    40  ...        0    5   19       10   \n",
       "Gerhard Richter       0          0    20  ...        0    0    0        0   \n",
       "Bridget Riley         0          0    60  ...       10    0    0        0   \n",
       "\n",
       "                 zorina  zurich  zwingli  zwirner  zwirnersssscornelia  élan  \n",
       "Cindy Sherman        18       0        0        0                    0     0  \n",
       "Gerhard Richter       0     155       64        0                    0    16  \n",
       "Bridget Riley         0       0        0       60                    1     0  \n",
       "\n",
       "[3 rows x 9792 columns]"
      ]
     },
     "execution_count": 36,
     "metadata": {},
     "output_type": "execute_result"
    }
   ],
   "source": [
    "# Read in the document-term matrix\n",
    "import pandas as pd\n",
    "import pickle \n",
    "data = pd.read_pickle('dtm_stop.pkl')\n",
    "#data = data.transpose()\n",
    "data.head()"
   ]
  },
  {
   "cell_type": "code",
   "execution_count": 37,
   "metadata": {
    "collapsed": true
   },
   "outputs": [],
   "source": [
    "# Import the necessary modules for LDA with gensim\n",
    "# Terminal / Anaconda Navigator: conda install -c conda-forge gensim\n",
    "from gensim import matutils, models\n",
    "import scipy.sparse\n",
    "\n",
    "# import logging\n",
    "# logging.basicConfig(format='%(asctime)s : %(levelname)s : %(message)s', level=logging.INFO)"
   ]
  },
  {
   "cell_type": "code",
   "execution_count": 38,
   "metadata": {},
   "outputs": [
    {
     "data": {
      "text/html": [
       "<div>\n",
       "<style scoped>\n",
       "    .dataframe tbody tr th:only-of-type {\n",
       "        vertical-align: middle;\n",
       "    }\n",
       "\n",
       "    .dataframe tbody tr th {\n",
       "        vertical-align: top;\n",
       "    }\n",
       "\n",
       "    .dataframe thead th {\n",
       "        text-align: right;\n",
       "    }\n",
       "</style>\n",
       "<table border=\"1\" class=\"dataframe\">\n",
       "  <thead>\n",
       "    <tr style=\"text-align: right;\">\n",
       "      <th></th>\n",
       "      <th>Cindy Sherman</th>\n",
       "      <th>Gerhard Richter</th>\n",
       "      <th>Bridget Riley</th>\n",
       "    </tr>\n",
       "  </thead>\n",
       "  <tbody>\n",
       "    <tr>\n",
       "      <th>aajohn</th>\n",
       "      <td>0</td>\n",
       "      <td>1</td>\n",
       "      <td>0</td>\n",
       "    </tr>\n",
       "    <tr>\n",
       "      <th>abandon</th>\n",
       "      <td>5</td>\n",
       "      <td>16</td>\n",
       "      <td>21</td>\n",
       "    </tr>\n",
       "    <tr>\n",
       "      <th>abashed</th>\n",
       "      <td>0</td>\n",
       "      <td>0</td>\n",
       "      <td>12</td>\n",
       "    </tr>\n",
       "    <tr>\n",
       "      <th>abbot</th>\n",
       "      <td>0</td>\n",
       "      <td>16</td>\n",
       "      <td>0</td>\n",
       "    </tr>\n",
       "    <tr>\n",
       "      <th>abhor</th>\n",
       "      <td>5</td>\n",
       "      <td>0</td>\n",
       "      <td>0</td>\n",
       "    </tr>\n",
       "  </tbody>\n",
       "</table>\n",
       "</div>"
      ],
      "text/plain": [
       "         Cindy Sherman  Gerhard Richter  Bridget Riley\n",
       "aajohn               0                1              0\n",
       "abandon              5               16             21\n",
       "abashed              0                0             12\n",
       "abbot                0               16              0\n",
       "abhor                5                0              0"
      ]
     },
     "execution_count": 38,
     "metadata": {},
     "output_type": "execute_result"
    }
   ],
   "source": [
    "# One of the required inputs is a term-document matrix\n",
    "tdm = data.transpose()\n",
    "tdm.head()"
   ]
  },
  {
   "cell_type": "code",
   "execution_count": 39,
   "metadata": {
    "collapsed": true
   },
   "outputs": [],
   "source": [
    "# We're going to put the term-document matrix into a new gensim format, from df --> sparse matrix --> gensim corpus\n",
    "sparse_counts = scipy.sparse.csr_matrix(tdm)\n",
    "corpus = matutils.Sparse2Corpus(sparse_counts)"
   ]
  },
  {
   "cell_type": "code",
   "execution_count": 40,
   "metadata": {
    "collapsed": true
   },
   "outputs": [],
   "source": [
    "# Gensim also requires dictionary of the all terms and their respective location in the term-document matrix\n",
    "cv = pickle.load(open(\"cv_stop.pkl\", \"rb\"))\n",
    "id2word = dict((v, k) for k, v in cv.vocabulary_.items())"
   ]
  },
  {
   "cell_type": "markdown",
   "metadata": {},
   "source": [
    "Now that we have the corpus (term-document matrix) and id2word (dictionary of location: term), we need to specify two other parameters - the number of topics and the number of passes. Let's start the number of topics at 2, see if the results make sense, and increase the number from there."
   ]
  },
  {
   "cell_type": "code",
   "execution_count": 44,
   "metadata": {},
   "outputs": [
    {
     "data": {
      "text/plain": [
       "[(0,\n",
       "  '0.015*\"work\" + 0.015*\"art\" + 0.012*\"painting\" + 0.009*\"make\" + 0.008*\"artist\" + 0.008*\"just\" + 0.007*\"gallery\" + 0.007*\"think\" + 0.007*\"look\" + 0.006*\"colour\"'),\n",
       " (1,\n",
       "  '0.016*\"art\" + 0.009*\"work\" + 0.008*\"artist\" + 0.007*\"painting\" + 0.006*\"museum\" + 0.005*\"make\" + 0.004*\"photograph\" + 0.004*\"photo\" + 0.004*\"image\" + 0.003*\"glass\"')]"
      ]
     },
     "execution_count": 44,
     "metadata": {},
     "output_type": "execute_result"
    }
   ],
   "source": [
    "# Now that we have the corpus (term-document matrix) and id2word (dictionary of location: term),\n",
    "# we need to specify two other parameters as well - the number of topics and the number of passes\n",
    "lda = models.LdaModel(corpus=corpus, id2word=id2word, num_topics=2, passes=10)\n",
    "lda.print_topics()"
   ]
  },
  {
   "cell_type": "code",
   "execution_count": 45,
   "metadata": {},
   "outputs": [
    {
     "data": {
      "text/plain": [
       "[(0,\n",
       "  '0.015*\"work\" + 0.015*\"art\" + 0.013*\"painting\" + 0.009*\"make\" + 0.008*\"artist\" + 0.008*\"just\" + 0.007*\"gallery\" + 0.007*\"think\" + 0.007*\"look\" + 0.006*\"colour\"'),\n",
       " (1,\n",
       "  '0.016*\"art\" + 0.010*\"painting\" + 0.008*\"work\" + 0.008*\"artist\" + 0.005*\"glass\" + 0.005*\"window\" + 0.005*\"make\" + 0.004*\"museum\" + 0.004*\"polke\" + 0.004*\"paint\"'),\n",
       " (2,\n",
       "  '0.017*\"art\" + 0.011*\"museum\" + 0.010*\"work\" + 0.010*\"artist\" + 0.010*\"photo\" + 0.007*\"vuitton\" + 0.007*\"present\" + 0.007*\"louis\" + 0.007*\"film\" + 0.007*\"studio\"')]"
      ]
     },
     "execution_count": 45,
     "metadata": {},
     "output_type": "execute_result"
    }
   ],
   "source": [
    "#topic=3\n",
    "lda = models.LdaModel(corpus=corpus, id2word=id2word, num_topics=3, passes=10)\n",
    "lda.print_topics()"
   ]
  },
  {
   "cell_type": "code",
   "execution_count": 46,
   "metadata": {},
   "outputs": [
    {
     "data": {
      "text/plain": [
       "[(0,\n",
       "  '0.017*\"art\" + 0.011*\"museum\" + 0.010*\"artist\" + 0.010*\"work\" + 0.010*\"photo\" + 0.007*\"vuitton\" + 0.007*\"present\" + 0.007*\"louis\" + 0.007*\"film\" + 0.007*\"studio\"'),\n",
       " (1,\n",
       "  '0.010*\"work\" + 0.008*\"art\" + 0.007*\"artist\" + 0.005*\"make\" + 0.004*\"gallery\" + 0.004*\"just\" + 0.004*\"painting\" + 0.004*\"look\" + 0.003*\"photograph\" + 0.003*\"think\"'),\n",
       " (2,\n",
       "  '0.016*\"art\" + 0.010*\"painting\" + 0.008*\"work\" + 0.008*\"artist\" + 0.005*\"glass\" + 0.005*\"window\" + 0.005*\"make\" + 0.004*\"museum\" + 0.004*\"polke\" + 0.004*\"paint\"'),\n",
       " (3,\n",
       "  '0.016*\"work\" + 0.015*\"art\" + 0.013*\"painting\" + 0.009*\"make\" + 0.008*\"artist\" + 0.008*\"just\" + 0.007*\"gallery\" + 0.007*\"think\" + 0.007*\"look\" + 0.006*\"colour\"')]"
      ]
     },
     "execution_count": 46,
     "metadata": {},
     "output_type": "execute_result"
    }
   ],
   "source": [
    "# LDA for num_topics = 4\n",
    "lda = models.LdaModel(corpus=corpus, id2word=id2word, num_topics=4, passes=10)\n",
    "lda.print_topics()"
   ]
  },
  {
   "cell_type": "markdown",
   "metadata": {},
   "source": [
    "Topic Modeling - Attempt #2 (Nouns Only)"
   ]
  },
  {
   "cell_type": "code",
   "execution_count": 64,
   "metadata": {
    "collapsed": true
   },
   "outputs": [],
   "source": [
    "# Let's create a function to pull out nouns from a string of text\n",
    "from nltk import word_tokenize, pos_tag\n",
    "\n",
    "def nouns(text):\n",
    "    '''Given a string of text, tokenize the text and pull out only the nouns.'''\n",
    "    is_noun = lambda pos: pos == 'NN'\n",
    "    tokenized = word_tokenize(text)\n",
    "    all_nouns = [word for (word, pos) in pos_tag(tokenized) if is_noun(pos)] \n",
    "    return ' '.join(all_nouns)"
   ]
  },
  {
   "cell_type": "code",
   "execution_count": 69,
   "metadata": {},
   "outputs": [
    {
     "data": {
      "text/html": [
       "<div>\n",
       "<style scoped>\n",
       "    .dataframe tbody tr th:only-of-type {\n",
       "        vertical-align: middle;\n",
       "    }\n",
       "\n",
       "    .dataframe tbody tr th {\n",
       "        vertical-align: top;\n",
       "    }\n",
       "\n",
       "    .dataframe thead th {\n",
       "        text-align: right;\n",
       "    }\n",
       "</style>\n",
       "<table border=\"1\" class=\"dataframe\">\n",
       "  <thead>\n",
       "    <tr style=\"text-align: right;\">\n",
       "      <th></th>\n",
       "      <th>transcript</th>\n",
       "      <th>artist_id</th>\n",
       "    </tr>\n",
       "  </thead>\n",
       "  <tbody>\n",
       "    <tr>\n",
       "      <th>Cindy Sherman</th>\n",
       "      <td>-PRON- actually hate the idea of selfie say ci...</td>\n",
       "      <td>Cindy Sherman</td>\n",
       "    </tr>\n",
       "    <tr>\n",
       "      <th>Gerhard Richter</th>\n",
       "      <td>the exhibition at de pont museum in tilburg ne...</td>\n",
       "      <td>Gerhard Richter</td>\n",
       "    </tr>\n",
       "    <tr>\n",
       "      <th>Bridget Riley</th>\n",
       "      <td>to walk into bridget riley exhibition of new w...</td>\n",
       "      <td>Bridget Riley</td>\n",
       "    </tr>\n",
       "  </tbody>\n",
       "</table>\n",
       "</div>"
      ],
      "text/plain": [
       "                                                        transcript  \\\n",
       "Cindy Sherman    -PRON- actually hate the idea of selfie say ci...   \n",
       "Gerhard Richter  the exhibition at de pont museum in tilburg ne...   \n",
       "Bridget Riley    to walk into bridget riley exhibition of new w...   \n",
       "\n",
       "                       artist_id  \n",
       "Cindy Sherman      Cindy Sherman  \n",
       "Gerhard Richter  Gerhard Richter  \n",
       "Bridget Riley      Bridget Riley  "
      ]
     },
     "execution_count": 69,
     "metadata": {},
     "output_type": "execute_result"
    }
   ],
   "source": [
    "# Read in the cleaned data, before the CountVectorizer step\n",
    "data_clean = pd.read_pickle('data_clean.pkl')\n",
    "data_clean"
   ]
  },
  {
   "cell_type": "code",
   "execution_count": 70,
   "metadata": {},
   "outputs": [
    {
     "data": {
      "text/html": [
       "<div>\n",
       "<style scoped>\n",
       "    .dataframe tbody tr th:only-of-type {\n",
       "        vertical-align: middle;\n",
       "    }\n",
       "\n",
       "    .dataframe tbody tr th {\n",
       "        vertical-align: top;\n",
       "    }\n",
       "\n",
       "    .dataframe thead th {\n",
       "        text-align: right;\n",
       "    }\n",
       "</style>\n",
       "<table border=\"1\" class=\"dataframe\">\n",
       "  <thead>\n",
       "    <tr style=\"text-align: right;\">\n",
       "      <th></th>\n",
       "      <th>transcript</th>\n",
       "    </tr>\n",
       "  </thead>\n",
       "  <tbody>\n",
       "    <tr>\n",
       "      <th>Cindy Sherman</th>\n",
       "      <td>idea sherman image iphone oh queen voice kind ...</td>\n",
       "    </tr>\n",
       "    <tr>\n",
       "      <th>Gerhard Richter</th>\n",
       "      <td>exhibition museum tilburg netherland june osca...</td>\n",
       "    </tr>\n",
       "    <tr>\n",
       "      <th>Bridget Riley</th>\n",
       "      <td>bridget exhibition work everything couple exce...</td>\n",
       "    </tr>\n",
       "  </tbody>\n",
       "</table>\n",
       "</div>"
      ],
      "text/plain": [
       "                                                        transcript\n",
       "Cindy Sherman    idea sherman image iphone oh queen voice kind ...\n",
       "Gerhard Richter  exhibition museum tilburg netherland june osca...\n",
       "Bridget Riley    bridget exhibition work everything couple exce..."
      ]
     },
     "execution_count": 70,
     "metadata": {},
     "output_type": "execute_result"
    }
   ],
   "source": [
    "# Apply the nouns function to the transcripts to filter only on nouns\n",
    "data_nouns = pd.DataFrame(data_clean.transcript.apply(nouns))\n",
    "data_nouns"
   ]
  },
  {
   "cell_type": "code",
   "execution_count": 118,
   "metadata": {},
   "outputs": [
    {
     "data": {
      "text/html": [
       "<div>\n",
       "<style scoped>\n",
       "    .dataframe tbody tr th:only-of-type {\n",
       "        vertical-align: middle;\n",
       "    }\n",
       "\n",
       "    .dataframe tbody tr th {\n",
       "        vertical-align: top;\n",
       "    }\n",
       "\n",
       "    .dataframe thead th {\n",
       "        text-align: right;\n",
       "    }\n",
       "</style>\n",
       "<table border=\"1\" class=\"dataframe\">\n",
       "  <thead>\n",
       "    <tr style=\"text-align: right;\">\n",
       "      <th></th>\n",
       "      <th>abandon</th>\n",
       "      <th>abbot</th>\n",
       "      <th>abhor</th>\n",
       "      <th>abigail</th>\n",
       "      <th>ability</th>\n",
       "      <th>abject</th>\n",
       "      <th>abjection</th>\n",
       "      <th>abraham</th>\n",
       "      <th>abramovic</th>\n",
       "      <th>abrasion</th>\n",
       "      <th>...</th>\n",
       "      <th>zhang</th>\n",
       "      <th>zigzag</th>\n",
       "      <th>zillion</th>\n",
       "      <th>zimmer</th>\n",
       "      <th>zoe</th>\n",
       "      <th>zurich</th>\n",
       "      <th>zwingli</th>\n",
       "      <th>zwirner</th>\n",
       "      <th>zwirnersssscornelia</th>\n",
       "      <th>élan</th>\n",
       "    </tr>\n",
       "  </thead>\n",
       "  <tbody>\n",
       "    <tr>\n",
       "      <th>Cindy Sherman</th>\n",
       "      <td>5</td>\n",
       "      <td>0</td>\n",
       "      <td>5</td>\n",
       "      <td>9</td>\n",
       "      <td>0</td>\n",
       "      <td>1</td>\n",
       "      <td>5</td>\n",
       "      <td>0</td>\n",
       "      <td>6</td>\n",
       "      <td>0</td>\n",
       "      <td>...</td>\n",
       "      <td>0</td>\n",
       "      <td>0</td>\n",
       "      <td>0</td>\n",
       "      <td>0</td>\n",
       "      <td>19</td>\n",
       "      <td>0</td>\n",
       "      <td>0</td>\n",
       "      <td>0</td>\n",
       "      <td>0</td>\n",
       "      <td>0</td>\n",
       "    </tr>\n",
       "    <tr>\n",
       "      <th>Gerhard Richter</th>\n",
       "      <td>0</td>\n",
       "      <td>16</td>\n",
       "      <td>0</td>\n",
       "      <td>0</td>\n",
       "      <td>0</td>\n",
       "      <td>0</td>\n",
       "      <td>0</td>\n",
       "      <td>16</td>\n",
       "      <td>0</td>\n",
       "      <td>16</td>\n",
       "      <td>...</td>\n",
       "      <td>5</td>\n",
       "      <td>0</td>\n",
       "      <td>5</td>\n",
       "      <td>0</td>\n",
       "      <td>0</td>\n",
       "      <td>21</td>\n",
       "      <td>48</td>\n",
       "      <td>0</td>\n",
       "      <td>0</td>\n",
       "      <td>16</td>\n",
       "    </tr>\n",
       "    <tr>\n",
       "      <th>Bridget Riley</th>\n",
       "      <td>5</td>\n",
       "      <td>0</td>\n",
       "      <td>0</td>\n",
       "      <td>0</td>\n",
       "      <td>5</td>\n",
       "      <td>0</td>\n",
       "      <td>0</td>\n",
       "      <td>0</td>\n",
       "      <td>0</td>\n",
       "      <td>0</td>\n",
       "      <td>...</td>\n",
       "      <td>0</td>\n",
       "      <td>10</td>\n",
       "      <td>0</td>\n",
       "      <td>10</td>\n",
       "      <td>0</td>\n",
       "      <td>0</td>\n",
       "      <td>0</td>\n",
       "      <td>52</td>\n",
       "      <td>1</td>\n",
       "      <td>0</td>\n",
       "    </tr>\n",
       "  </tbody>\n",
       "</table>\n",
       "<p>3 rows × 5955 columns</p>\n",
       "</div>"
      ],
      "text/plain": [
       "                 abandon  abbot  abhor  abigail  ability  abject  abjection  \\\n",
       "Cindy Sherman          5      0      5        9        0       1          5   \n",
       "Gerhard Richter        0     16      0        0        0       0          0   \n",
       "Bridget Riley          5      0      0        0        5       0          0   \n",
       "\n",
       "                 abraham  abramovic  abrasion  ...   zhang  zigzag  zillion  \\\n",
       "Cindy Sherman          0          6         0  ...       0       0        0   \n",
       "Gerhard Richter       16          0        16  ...       5       0        5   \n",
       "Bridget Riley          0          0         0  ...       0      10        0   \n",
       "\n",
       "                 zimmer  zoe  zurich  zwingli  zwirner  zwirnersssscornelia  \\\n",
       "Cindy Sherman         0   19       0        0        0                    0   \n",
       "Gerhard Richter       0    0      21       48        0                    0   \n",
       "Bridget Riley        10    0       0        0       52                    1   \n",
       "\n",
       "                 élan  \n",
       "Cindy Sherman       0  \n",
       "Gerhard Richter    16  \n",
       "Bridget Riley       0  \n",
       "\n",
       "[3 rows x 5955 columns]"
      ]
     },
     "execution_count": 118,
     "metadata": {},
     "output_type": "execute_result"
    }
   ],
   "source": [
    "# Create a new document-term matrix using only nouns\n",
    "from sklearn.feature_extraction import text\n",
    "from sklearn.feature_extraction.text import CountVectorizer\n",
    "\n",
    "# Re-add the additional stop words since we are recreating the document-term matrix\n",
    "add_stop_words = ['PRON',\n",
    " 'pron',\n",
    " 'say',\n",
    " 'like',\n",
    " 'cindy',\n",
    " 'sherman',\n",
    " 'gerhard',\n",
    " 'richter',\n",
    " 'bridget',\n",
    " 'riley',\n",
    " 'new',\n",
    " 'york',\n",
    " 'twitter',\n",
    " 'facebook',\n",
    " 'pinterest',\n",
    " 'annual','oh','way','thing','year','ahg','dh','untitled','artist','art','gallery','exhibition','work','museum','party'\n",
    "                 ]\n",
    "stop_words = text.ENGLISH_STOP_WORDS.union(add_stop_words)\n",
    "\n",
    "# Recreate a document-term matrix with only nouns\n",
    "cvn = CountVectorizer(stop_words=stop_words)\n",
    "data_cvn = cvn.fit_transform(data_nouns.transcript)\n",
    "data_dtmn = pd.DataFrame(data_cvn.toarray(), columns=cvn.get_feature_names())\n",
    "data_dtmn.index = data_nouns.index\n",
    "data_dtmn"
   ]
  },
  {
   "cell_type": "code",
   "execution_count": 119,
   "metadata": {
    "collapsed": true
   },
   "outputs": [],
   "source": [
    "# Create the gensim corpus\n",
    "corpusn = matutils.Sparse2Corpus(scipy.sparse.csr_matrix(data_dtmn.transpose()))\n",
    "\n",
    "# Create the vocabulary dictionary\n",
    "id2wordn = dict((v, k) for k, v in cvn.vocabulary_.items())"
   ]
  },
  {
   "cell_type": "code",
   "execution_count": 120,
   "metadata": {},
   "outputs": [
    {
     "data": {
      "text/plain": [
       "[(0,\n",
       "  '0.010*\"painting\" + 0.009*\"photo\" + 0.008*\"studio\" + 0.007*\"film\" + 0.007*\"time\" + 0.007*\"photograph\" + 0.006*\"vuitton\" + 0.006*\"series\" + 0.006*\"world\" + 0.005*\"image\"'),\n",
       " (1,\n",
       "  '0.010*\"painting\" + 0.009*\"glass\" + 0.008*\"window\" + 0.006*\"world\" + 0.006*\"image\" + 0.006*\"polke\" + 0.006*\"photograph\" + 0.005*\"paint\" + 0.005*\"painter\" + 0.005*\"time\"')]"
      ]
     },
     "execution_count": 120,
     "metadata": {},
     "output_type": "execute_result"
    }
   ],
   "source": [
    "# Let's start with 2 topics\n",
    "ldan = models.LdaModel(corpus=corpusn, num_topics=2, id2word=id2wordn, passes=10)\n",
    "ldan.print_topics()"
   ]
  },
  {
   "cell_type": "code",
   "execution_count": 121,
   "metadata": {},
   "outputs": [
    {
     "data": {
      "text/plain": [
       "[(0,\n",
       "  '0.010*\"painting\" + 0.009*\"photo\" + 0.008*\"studio\" + 0.007*\"film\" + 0.007*\"time\" + 0.007*\"photograph\" + 0.006*\"vuitton\" + 0.006*\"series\" + 0.006*\"world\" + 0.005*\"image\"'),\n",
       " (1,\n",
       "  '0.010*\"painting\" + 0.009*\"glass\" + 0.008*\"window\" + 0.006*\"world\" + 0.006*\"image\" + 0.006*\"polke\" + 0.006*\"photograph\" + 0.005*\"paint\" + 0.005*\"painter\" + 0.005*\"time\"'),\n",
       " (2,\n",
       "  '0.005*\"painting\" + 0.003*\"world\" + 0.003*\"photograph\" + 0.003*\"window\" + 0.002*\"image\" + 0.002*\"glass\" + 0.002*\"photo\" + 0.002*\"time\" + 0.002*\"painter\" + 0.002*\"paint\"')]"
      ]
     },
     "execution_count": 121,
     "metadata": {},
     "output_type": "execute_result"
    }
   ],
   "source": [
    "# Let's try topics = 3\n",
    "ldan = models.LdaModel(corpus=corpusn, num_topics=3, id2word=id2wordn, passes=10)\n",
    "ldan.print_topics()"
   ]
  },
  {
   "cell_type": "code",
   "execution_count": 126,
   "metadata": {},
   "outputs": [
    {
     "data": {
      "text/plain": [
       "[(0,\n",
       "  '0.010*\"painting\" + 0.009*\"glass\" + 0.008*\"window\" + 0.007*\"world\" + 0.006*\"image\" + 0.006*\"polke\" + 0.006*\"photograph\" + 0.005*\"paint\" + 0.005*\"painter\" + 0.005*\"time\"'),\n",
       " (1,\n",
       "  '0.017*\"painting\" + 0.008*\"colour\" + 0.008*\"kind\" + 0.008*\"time\" + 0.008*\"world\" + 0.007*\"space\" + 0.007*\"eye\" + 0.006*\"piece\" + 0.006*\"look\" + 0.006*\"use\"'),\n",
       " (2,\n",
       "  '0.018*\"photo\" + 0.013*\"vuitton\" + 0.013*\"film\" + 0.013*\"studio\" + 0.011*\"whitney\" + 0.011*\"gala\" + 0.009*\"series\" + 0.009*\"photograph\" + 0.009*\"woman\" + 0.008*\"image\"'),\n",
       " (3,\n",
       "  '0.003*\"painting\" + 0.002*\"world\" + 0.002*\"photograph\" + 0.002*\"time\" + 0.001*\"image\" + 0.001*\"paint\" + 0.001*\"glass\" + 0.001*\"studio\" + 0.001*\"look\" + 0.001*\"use\"')]"
      ]
     },
     "execution_count": 126,
     "metadata": {},
     "output_type": "execute_result"
    }
   ],
   "source": [
    "# Let's try 4 topics\n",
    "ldan = models.LdaModel(corpus=corpusn, num_topics=4, id2word=id2wordn, passes=10)\n",
    "ldan.print_topics()"
   ]
  },
  {
   "cell_type": "code",
   "execution_count": 127,
   "metadata": {},
   "outputs": [
    {
     "data": {
      "text/plain": [
       "[(2, 'Cindy Sherman'), (0, 'Gerhard Richter'), (1, 'Bridget Riley')]"
      ]
     },
     "execution_count": 127,
     "metadata": {},
     "output_type": "execute_result"
    }
   ],
   "source": [
    "# Let's take a look at which topics each transcript contains\n",
    "corpus_transformed = ldan[corpusn]\n",
    "list(zip([a for [(a,b)] in corpus_transformed], data_dtmna.index))"
   ]
  },
  {
   "cell_type": "raw",
   "metadata": {},
   "source": [
    "topic 0:painting,image,glass\n",
    "topic 1:painting,time,space,eye\n",
    "topic 2:photo,woman,whitney"
   ]
  },
  {
   "cell_type": "code",
   "execution_count": 132,
   "metadata": {},
   "outputs": [
    {
     "data": {
      "text/plain": [
       "<matplotlib.collections.PathCollection at 0x1a35b84b00>"
      ]
     },
     "execution_count": 132,
     "metadata": {},
     "output_type": "execute_result"
    },
    {
     "data": {
      "image/png": "[encoded data removed]",
      "text/plain": [
       "<Figure size 432x288 with 1 Axes>"
      ]
     },
     "metadata": {},
     "output_type": "display_data"
    }
   ],
   "source": [
    "import matplotlib.pyplot as plt\n",
    "\n",
    "data = {'Cindy Sherman': 2, 'Gerhard Richter': 0,'Bridget Riley': 1}\n",
    "names = list(data.keys())\n",
    "values = list(data.values())\n",
    "\n",
    "#fig, axs = plt.subplots(1, 3, figsize=(9, 3), sharey=True)\n",
    "plt.scatter(names,values)\n",
    "#fig.suptitle('Categorical Plotting')"
   ]
  },
  {
   "cell_type": "markdown",
   "metadata": {},
   "source": [
    "Topic Modeling - Attempt #3 (Nouns and Adjectives)"
   ]
  },
  {
   "cell_type": "code",
   "execution_count": 91,
   "metadata": {
    "collapsed": true
   },
   "outputs": [],
   "source": [
    "# Let's create a function to pull out nouns from a string of text\n",
    "def nouns_adj(text):\n",
    "    '''Given a string of text, tokenize the text and pull out only the nouns and adjectives.'''\n",
    "    is_noun_adj = lambda pos: pos == 'NN' or pos == 'JJ'\n",
    "    tokenized = word_tokenize(text)\n",
    "    nouns_adj = [word for (word, pos) in pos_tag(tokenized) if is_noun_adj(pos)] \n",
    "    return ' '.join(nouns_adj)"
   ]
  },
  {
   "cell_type": "code",
   "execution_count": 92,
   "metadata": {},
   "outputs": [
    {
     "data": {
      "text/html": [
       "<div>\n",
       "<style scoped>\n",
       "    .dataframe tbody tr th:only-of-type {\n",
       "        vertical-align: middle;\n",
       "    }\n",
       "\n",
       "    .dataframe tbody tr th {\n",
       "        vertical-align: top;\n",
       "    }\n",
       "\n",
       "    .dataframe thead th {\n",
       "        text-align: right;\n",
       "    }\n",
       "</style>\n",
       "<table border=\"1\" class=\"dataframe\">\n",
       "  <thead>\n",
       "    <tr style=\"text-align: right;\">\n",
       "      <th></th>\n",
       "      <th>transcript</th>\n",
       "    </tr>\n",
       "  </thead>\n",
       "  <tbody>\n",
       "    <tr>\n",
       "      <th>Cindy Sherman</th>\n",
       "      <td>idea cindy sherman discuss recent image iphone...</td>\n",
       "    </tr>\n",
       "    <tr>\n",
       "      <th>Gerhard Richter</th>\n",
       "      <td>exhibition museum tilburg netherland june osca...</td>\n",
       "    </tr>\n",
       "    <tr>\n",
       "      <th>Bridget Riley</th>\n",
       "      <td>bridget riley exhibition new work everything c...</td>\n",
       "    </tr>\n",
       "  </tbody>\n",
       "</table>\n",
       "</div>"
      ],
      "text/plain": [
       "                                                        transcript\n",
       "Cindy Sherman    idea cindy sherman discuss recent image iphone...\n",
       "Gerhard Richter  exhibition museum tilburg netherland june osca...\n",
       "Bridget Riley    bridget riley exhibition new work everything c..."
      ]
     },
     "execution_count": 92,
     "metadata": {},
     "output_type": "execute_result"
    }
   ],
   "source": [
    "# Apply the nouns function to the transcripts to filter only on nouns\n",
    "data_nouns_adj = pd.DataFrame(data_clean.transcript.apply(nouns_adj))\n",
    "data_nouns_adj"
   ]
  },
  {
   "cell_type": "code",
   "execution_count": 93,
   "metadata": {},
   "outputs": [
    {
     "data": {
      "text/html": [
       "<div>\n",
       "<style scoped>\n",
       "    .dataframe tbody tr th:only-of-type {\n",
       "        vertical-align: middle;\n",
       "    }\n",
       "\n",
       "    .dataframe tbody tr th {\n",
       "        vertical-align: top;\n",
       "    }\n",
       "\n",
       "    .dataframe thead th {\n",
       "        text-align: right;\n",
       "    }\n",
       "</style>\n",
       "<table border=\"1\" class=\"dataframe\">\n",
       "  <thead>\n",
       "    <tr style=\"text-align: right;\">\n",
       "      <th></th>\n",
       "      <th>abandon</th>\n",
       "      <th>abbot</th>\n",
       "      <th>abhor</th>\n",
       "      <th>abigail</th>\n",
       "      <th>ability</th>\n",
       "      <th>abject</th>\n",
       "      <th>abjection</th>\n",
       "      <th>aboriginal</th>\n",
       "      <th>abraham</th>\n",
       "      <th>abramovic</th>\n",
       "      <th>...</th>\n",
       "      <th>zhang</th>\n",
       "      <th>zigzag</th>\n",
       "      <th>zillion</th>\n",
       "      <th>zimmer</th>\n",
       "      <th>zoe</th>\n",
       "      <th>zurich</th>\n",
       "      <th>zwingli</th>\n",
       "      <th>zwirner</th>\n",
       "      <th>zwirnersssscornelia</th>\n",
       "      <th>élan</th>\n",
       "    </tr>\n",
       "  </thead>\n",
       "  <tbody>\n",
       "    <tr>\n",
       "      <th>Cindy Sherman</th>\n",
       "      <td>5</td>\n",
       "      <td>0</td>\n",
       "      <td>5</td>\n",
       "      <td>9</td>\n",
       "      <td>0</td>\n",
       "      <td>38</td>\n",
       "      <td>5</td>\n",
       "      <td>5</td>\n",
       "      <td>0</td>\n",
       "      <td>11</td>\n",
       "      <td>...</td>\n",
       "      <td>0</td>\n",
       "      <td>0</td>\n",
       "      <td>0</td>\n",
       "      <td>0</td>\n",
       "      <td>19</td>\n",
       "      <td>0</td>\n",
       "      <td>0</td>\n",
       "      <td>0</td>\n",
       "      <td>0</td>\n",
       "      <td>0</td>\n",
       "    </tr>\n",
       "    <tr>\n",
       "      <th>Gerhard Richter</th>\n",
       "      <td>0</td>\n",
       "      <td>16</td>\n",
       "      <td>0</td>\n",
       "      <td>0</td>\n",
       "      <td>0</td>\n",
       "      <td>0</td>\n",
       "      <td>0</td>\n",
       "      <td>0</td>\n",
       "      <td>16</td>\n",
       "      <td>5</td>\n",
       "      <td>...</td>\n",
       "      <td>5</td>\n",
       "      <td>0</td>\n",
       "      <td>5</td>\n",
       "      <td>0</td>\n",
       "      <td>0</td>\n",
       "      <td>75</td>\n",
       "      <td>48</td>\n",
       "      <td>0</td>\n",
       "      <td>0</td>\n",
       "      <td>16</td>\n",
       "    </tr>\n",
       "    <tr>\n",
       "      <th>Bridget Riley</th>\n",
       "      <td>10</td>\n",
       "      <td>0</td>\n",
       "      <td>0</td>\n",
       "      <td>0</td>\n",
       "      <td>5</td>\n",
       "      <td>0</td>\n",
       "      <td>0</td>\n",
       "      <td>0</td>\n",
       "      <td>0</td>\n",
       "      <td>0</td>\n",
       "      <td>...</td>\n",
       "      <td>0</td>\n",
       "      <td>10</td>\n",
       "      <td>0</td>\n",
       "      <td>10</td>\n",
       "      <td>0</td>\n",
       "      <td>0</td>\n",
       "      <td>0</td>\n",
       "      <td>52</td>\n",
       "      <td>1</td>\n",
       "      <td>0</td>\n",
       "    </tr>\n",
       "  </tbody>\n",
       "</table>\n",
       "<p>3 rows × 7065 columns</p>\n",
       "</div>"
      ],
      "text/plain": [
       "                 abandon  abbot  abhor  abigail  ability  abject  abjection  \\\n",
       "Cindy Sherman          5      0      5        9        0      38          5   \n",
       "Gerhard Richter        0     16      0        0        0       0          0   \n",
       "Bridget Riley         10      0      0        0        5       0          0   \n",
       "\n",
       "                 aboriginal  abraham  abramovic  ...   zhang  zigzag  zillion  \\\n",
       "Cindy Sherman             5        0         11  ...       0       0        0   \n",
       "Gerhard Richter           0       16          5  ...       5       0        5   \n",
       "Bridget Riley             0        0          0  ...       0      10        0   \n",
       "\n",
       "                 zimmer  zoe  zurich  zwingli  zwirner  zwirnersssscornelia  \\\n",
       "Cindy Sherman         0   19       0        0        0                    0   \n",
       "Gerhard Richter       0    0      75       48        0                    0   \n",
       "Bridget Riley        10    0       0        0       52                    1   \n",
       "\n",
       "                 élan  \n",
       "Cindy Sherman       0  \n",
       "Gerhard Richter    16  \n",
       "Bridget Riley       0  \n",
       "\n",
       "[3 rows x 7065 columns]"
      ]
     },
     "execution_count": 93,
     "metadata": {},
     "output_type": "execute_result"
    }
   ],
   "source": [
    "# Create a new document-term matrix using only nouns and adjectives, also remove common words with max_df\n",
    "cvna = CountVectorizer(stop_words=stop_words, max_df=.8)\n",
    "data_cvna = cvna.fit_transform(data_nouns_adj.transcript)\n",
    "data_dtmna = pd.DataFrame(data_cvna.toarray(), columns=cvna.get_feature_names())\n",
    "data_dtmna.index = data_nouns_adj.index\n",
    "data_dtmna"
   ]
  },
  {
   "cell_type": "code",
   "execution_count": 94,
   "metadata": {
    "collapsed": true
   },
   "outputs": [],
   "source": [
    "# Create the gensim corpus\n",
    "corpusna = matutils.Sparse2Corpus(scipy.sparse.csr_matrix(data_dtmna.transpose()))\n",
    "\n",
    "# Create the vocabulary dictionary\n",
    "id2wordna = dict((v, k) for k, v in cvna.vocabulary_.items())"
   ]
  },
  {
   "cell_type": "code",
   "execution_count": 95,
   "metadata": {},
   "outputs": [
    {
     "data": {
      "text/plain": [
       "[(0,\n",
       "  '0.008*\"polke\" + 0.005*\"cologne\" + 0.005*\"moreread\" + 0.004*\"abstract\" + 0.004*\"stain\" + 0.004*\"cathedral\" + 0.004*\"pärt\" + 0.004*\"germany\" + 0.003*\"arvo\" + 0.003*\"johns\"'),\n",
       " (1,\n",
       "  '0.009*\"vuitton\" + 0.009*\"louis\" + 0.008*\"whitney\" + 0.007*\"gala\" + 0.005*\"metro\" + 0.004*\"abstract\" + 0.003*\"access\" + 0.003*\"stripe\" + 0.003*\"yeah\" + 0.003*\"seurat\"')]"
      ]
     },
     "execution_count": 95,
     "metadata": {},
     "output_type": "execute_result"
    }
   ],
   "source": [
    "# Let's start with 2 topics\n",
    "ldana = models.LdaModel(corpus=corpusna, num_topics=2, id2word=id2wordna, passes=10)\n",
    "ldana.print_topics()"
   ]
  },
  {
   "cell_type": "code",
   "execution_count": 96,
   "metadata": {},
   "outputs": [
    {
     "data": {
      "text/plain": [
       "[(0,\n",
       "  '0.018*\"vuitton\" + 0.017*\"louis\" + 0.015*\"whitney\" + 0.015*\"gala\" + 0.011*\"metro\" + 0.006*\"access\" + 0.005*\"sublimation\" + 0.004*\"bag\" + 0.004*\"makeup\" + 0.004*\"monogram\"'),\n",
       " (1,\n",
       "  '0.008*\"polke\" + 0.005*\"cologne\" + 0.005*\"moreread\" + 0.004*\"abstract\" + 0.004*\"stain\" + 0.004*\"cathedral\" + 0.004*\"pärt\" + 0.004*\"germany\" + 0.003*\"arvo\" + 0.003*\"johns\"'),\n",
       " (2,\n",
       "  '0.008*\"abstract\" + 0.005*\"stripe\" + 0.005*\"yeah\" + 0.005*\"seurat\" + 0.005*\"bacon\" + 0.005*\"curve\" + 0.005*\"british\" + 0.004*\"perception\" + 0.004*\"hospital\" + 0.004*\"vertical\"')]"
      ]
     },
     "execution_count": 96,
     "metadata": {},
     "output_type": "execute_result"
    }
   ],
   "source": [
    "# Let's try 3 topics\n",
    "ldana = models.LdaModel(corpus=corpusna, num_topics=3, id2word=id2wordna, passes=10)\n",
    "ldana.print_topics()"
   ]
  },
  {
   "cell_type": "code",
   "execution_count": 97,
   "metadata": {},
   "outputs": [
    {
     "data": {
      "text/plain": [
       "[(0,\n",
       "  '0.019*\"vuitton\" + 0.018*\"louis\" + 0.016*\"whitney\" + 0.015*\"gala\" + 0.011*\"metro\" + 0.006*\"access\" + 0.005*\"sublimation\" + 0.005*\"bag\" + 0.005*\"makeup\" + 0.004*\"monogram\"'),\n",
       " (1,\n",
       "  '0.008*\"abstract\" + 0.006*\"stripe\" + 0.006*\"yeah\" + 0.005*\"seurat\" + 0.005*\"bacon\" + 0.005*\"curve\" + 0.005*\"british\" + 0.004*\"perception\" + 0.004*\"hospital\" + 0.004*\"vertical\"'),\n",
       " (2,\n",
       "  '0.001*\"polke\" + 0.001*\"abstract\" + 0.001*\"louis\" + 0.001*\"vuitton\" + 0.000*\"cologne\" + 0.000*\"pärt\" + 0.000*\"cathedral\" + 0.000*\"gala\" + 0.000*\"germany\" + 0.000*\"moreread\"'),\n",
       " (3,\n",
       "  '0.008*\"polke\" + 0.005*\"cologne\" + 0.005*\"moreread\" + 0.004*\"abstract\" + 0.004*\"stain\" + 0.004*\"cathedral\" + 0.004*\"pärt\" + 0.004*\"germany\" + 0.003*\"arvo\" + 0.003*\"johns\"')]"
      ]
     },
     "execution_count": 97,
     "metadata": {},
     "output_type": "execute_result"
    }
   ],
   "source": [
    "# Let's try 4 topics\n",
    "ldana = models.LdaModel(corpus=corpusna, num_topics=4, id2word=id2wordna, passes=10)\n",
    "ldana.print_topics()"
   ]
  },
  {
   "cell_type": "markdown",
   "metadata": {},
   "source": [
    "Identify Topics in Each Document\n",
    "Out of the 9 topic models we looked at, the nouns and adjectives, 4 topic one made the most sense. So let's pull that down here and run it through some more iterations to get more fine-tuned topics."
   ]
  },
  {
   "cell_type": "code",
   "execution_count": 98,
   "metadata": {},
   "outputs": [
    {
     "data": {
      "text/plain": [
       "[(0,\n",
       "  '0.006*\"polke\" + 0.006*\"abstract\" + 0.003*\"cathedral\" + 0.003*\"cologne\" + 0.003*\"moreread\" + 0.003*\"stain\" + 0.003*\"pärt\" + 0.003*\"british\" + 0.003*\"stripe\" + 0.003*\"germany\"'),\n",
       " (1,\n",
       "  '0.000*\"vuitton\" + 0.000*\"louis\" + 0.000*\"whitney\" + 0.000*\"gala\" + 0.000*\"metro\" + 0.000*\"access\" + 0.000*\"polke\" + 0.000*\"abstract\" + 0.000*\"isbn\" + 0.000*\"bag\"'),\n",
       " (2,\n",
       "  '0.019*\"vuitton\" + 0.018*\"louis\" + 0.016*\"whitney\" + 0.015*\"gala\" + 0.011*\"metro\" + 0.006*\"access\" + 0.005*\"sublimation\" + 0.005*\"bag\" + 0.005*\"makeup\" + 0.004*\"monogram\"'),\n",
       " (3,\n",
       "  '0.000*\"abstract\" + 0.000*\"louis\" + 0.000*\"gala\" + 0.000*\"polke\" + 0.000*\"vuitton\" + 0.000*\"moreread\" + 0.000*\"cologne\" + 0.000*\"cathedral\" + 0.000*\"whitney\" + 0.000*\"metro\"')]"
      ]
     },
     "execution_count": 98,
     "metadata": {},
     "output_type": "execute_result"
    }
   ],
   "source": [
    "# Our final LDA model (for now)\n",
    "ldana = models.LdaModel(corpus=corpusna, num_topics=4, id2word=id2wordna, passes=80)\n",
    "ldana.print_topics()"
   ]
  },
  {
   "cell_type": "code",
   "execution_count": 99,
   "metadata": {},
   "outputs": [
    {
     "data": {
      "text/plain": [
       "[(2, 'Cindy Sherman'), (0, 'Gerhard Richter'), (0, 'Bridget Riley')]"
      ]
     },
     "execution_count": 99,
     "metadata": {},
     "output_type": "execute_result"
    }
   ],
   "source": [
    "# Let's take a look at which topics each transcript contains\n",
    "corpus_transformed = ldana[corpusna]\n",
    "list(zip([a for [(a,b)] in corpus_transformed], data_dtmna.index))"
   ]
  },
  {
   "cell_type": "code",
   "execution_count": null,
   "metadata": {
    "collapsed": true
   },
   "outputs": [],
   "source": []
  }
 ],
 "metadata": {
  "kernelspec": {
   "display_name": "Python 3",
   "language": "python",
   "name": "python3"
  },
  "language_info": {
   "codemirror_mode": {
    "name": "ipython",
    "version": 3
   },
   "file_extension": ".py",
   "mimetype": "text/x-python",
   "name": "python",
   "nbconvert_exporter": "python",
   "pygments_lexer": "ipython3",
   "version": "3.6.3"
  }
 },
 "nbformat": 4,
 "nbformat_minor": 2
}
