{
 "cells": [
  {
   "cell_type": "code",
   "execution_count": 52,
   "metadata": {},
   "outputs": [
    {
     "data": {
      "text/html": [
       "<div>\n",
       "<style scoped>\n",
       "    .dataframe tbody tr th:only-of-type {\n",
       "        vertical-align: middle;\n",
       "    }\n",
       "\n",
       "    .dataframe tbody tr th {\n",
       "        vertical-align: top;\n",
       "    }\n",
       "\n",
       "    .dataframe thead th {\n",
       "        text-align: right;\n",
       "    }\n",
       "</style>\n",
       "<table border=\"1\" class=\"dataframe\">\n",
       "  <thead>\n",
       "    <tr style=\"text-align: right;\">\n",
       "      <th></th>\n",
       "      <th>aajohn</th>\n",
       "      <th>abashed</th>\n",
       "      <th>abbot</th>\n",
       "      <th>abhor</th>\n",
       "      <th>abigail</th>\n",
       "      <th>ability</th>\n",
       "      <th>abject</th>\n",
       "      <th>abjection</th>\n",
       "      <th>aboriginal</th>\n",
       "      <th>abraham</th>\n",
       "      <th>...</th>\n",
       "      <th>zimmer</th>\n",
       "      <th>zip</th>\n",
       "      <th>zoe</th>\n",
       "      <th>zombies</th>\n",
       "      <th>zorina</th>\n",
       "      <th>zurich</th>\n",
       "      <th>zwingli</th>\n",
       "      <th>zwirner</th>\n",
       "      <th>zwirnersssscornelia</th>\n",
       "      <th>élan</th>\n",
       "    </tr>\n",
       "  </thead>\n",
       "  <tbody>\n",
       "    <tr>\n",
       "      <th>Cindy Sherman</th>\n",
       "      <td>0.000000</td>\n",
       "      <td>0.000000</td>\n",
       "      <td>0.000000</td>\n",
       "      <td>0.002214</td>\n",
       "      <td>0.006199</td>\n",
       "      <td>0.000000</td>\n",
       "      <td>0.01727</td>\n",
       "      <td>0.002214</td>\n",
       "      <td>0.002214</td>\n",
       "      <td>0.000000</td>\n",
       "      <td>...</td>\n",
       "      <td>0.000000</td>\n",
       "      <td>0.002214</td>\n",
       "      <td>0.008414</td>\n",
       "      <td>0.004428</td>\n",
       "      <td>0.007971</td>\n",
       "      <td>0.000000</td>\n",
       "      <td>0.000000</td>\n",
       "      <td>0.000000</td>\n",
       "      <td>0.00000</td>\n",
       "      <td>0.000000</td>\n",
       "    </tr>\n",
       "    <tr>\n",
       "      <th>Gerhard Richter</th>\n",
       "      <td>0.000462</td>\n",
       "      <td>0.000000</td>\n",
       "      <td>0.007391</td>\n",
       "      <td>0.000000</td>\n",
       "      <td>0.000000</td>\n",
       "      <td>0.000000</td>\n",
       "      <td>0.00000</td>\n",
       "      <td>0.000000</td>\n",
       "      <td>0.000000</td>\n",
       "      <td>0.007391</td>\n",
       "      <td>...</td>\n",
       "      <td>0.000000</td>\n",
       "      <td>0.000000</td>\n",
       "      <td>0.000000</td>\n",
       "      <td>0.000000</td>\n",
       "      <td>0.000000</td>\n",
       "      <td>0.071603</td>\n",
       "      <td>0.029565</td>\n",
       "      <td>0.000000</td>\n",
       "      <td>0.00000</td>\n",
       "      <td>0.007391</td>\n",
       "    </tr>\n",
       "    <tr>\n",
       "      <th>Bridget Riley</th>\n",
       "      <td>0.000000</td>\n",
       "      <td>0.007077</td>\n",
       "      <td>0.000000</td>\n",
       "      <td>0.000000</td>\n",
       "      <td>0.000000</td>\n",
       "      <td>0.002949</td>\n",
       "      <td>0.00000</td>\n",
       "      <td>0.000000</td>\n",
       "      <td>0.000000</td>\n",
       "      <td>0.000000</td>\n",
       "      <td>...</td>\n",
       "      <td>0.005898</td>\n",
       "      <td>0.000000</td>\n",
       "      <td>0.000000</td>\n",
       "      <td>0.000000</td>\n",
       "      <td>0.000000</td>\n",
       "      <td>0.000000</td>\n",
       "      <td>0.000000</td>\n",
       "      <td>0.035386</td>\n",
       "      <td>0.00059</td>\n",
       "      <td>0.000000</td>\n",
       "    </tr>\n",
       "  </tbody>\n",
       "</table>\n",
       "<p>3 rows × 8674 columns</p>\n",
       "</div>"
      ],
      "text/plain": [
       "                   aajohn   abashed     abbot     abhor   abigail   ability  \\\n",
       "Cindy Sherman    0.000000  0.000000  0.000000  0.002214  0.006199  0.000000   \n",
       "Gerhard Richter  0.000462  0.000000  0.007391  0.000000  0.000000  0.000000   \n",
       "Bridget Riley    0.000000  0.007077  0.000000  0.000000  0.000000  0.002949   \n",
       "\n",
       "                  abject  abjection  aboriginal   abraham    ...       zimmer  \\\n",
       "Cindy Sherman    0.01727   0.002214    0.002214  0.000000    ...     0.000000   \n",
       "Gerhard Richter  0.00000   0.000000    0.000000  0.007391    ...     0.000000   \n",
       "Bridget Riley    0.00000   0.000000    0.000000  0.000000    ...     0.005898   \n",
       "\n",
       "                      zip       zoe   zombies    zorina    zurich   zwingli  \\\n",
       "Cindy Sherman    0.002214  0.008414  0.004428  0.007971  0.000000  0.000000   \n",
       "Gerhard Richter  0.000000  0.000000  0.000000  0.000000  0.071603  0.029565   \n",
       "Bridget Riley    0.000000  0.000000  0.000000  0.000000  0.000000  0.000000   \n",
       "\n",
       "                  zwirner  zwirnersssscornelia      élan  \n",
       "Cindy Sherman    0.000000              0.00000  0.000000  \n",
       "Gerhard Richter  0.000000              0.00000  0.007391  \n",
       "Bridget Riley    0.035386              0.00059  0.000000  \n",
       "\n",
       "[3 rows x 8674 columns]"
      ]
     },
     "execution_count": 52,
     "metadata": {},
     "output_type": "execute_result"
    }
   ],
   "source": [
    "# Let's read in our document-term matrix\n",
    "import pandas as pd\n",
    "import pickle\n",
    "\n",
    "data = pd.read_pickle('dtm_tfidf.pkl')\n",
    "data"
   ]
  },
  {
   "cell_type": "code",
   "execution_count": 53,
   "metadata": {
    "collapsed": true
   },
   "outputs": [],
   "source": [
    "from sklearn.metrics.pairwise import cosine_similarity\n",
    "dist = 1 - cosine_similarity(data)"
   ]
  },
  {
   "cell_type": "code",
   "execution_count": 72,
   "metadata": {
    "collapsed": true
   },
   "outputs": [],
   "source": [
    "from sklearn.cluster import KMeans\n",
    "num_cluster=3\n",
    "km = KMeans(n_clusters=num_cluster)"
   ]
  },
  {
   "cell_type": "code",
   "execution_count": 73,
   "metadata": {},
   "outputs": [
    {
     "data": {
      "text/plain": [
       "KMeans(algorithm='auto', copy_x=True, init='k-means++', max_iter=300,\n",
       "    n_clusters=3, n_init=10, n_jobs=1, precompute_distances='auto',\n",
       "    random_state=None, tol=0.0001, verbose=0)"
      ]
     },
     "execution_count": 73,
     "metadata": {},
     "output_type": "execute_result"
    }
   ],
   "source": [
    "km.fit(data)"
   ]
  },
  {
   "cell_type": "code",
   "execution_count": 74,
   "metadata": {
    "collapsed": true
   },
   "outputs": [],
   "source": [
    "clusters = km.labels_.tolist()"
   ]
  },
  {
   "cell_type": "code",
   "execution_count": 75,
   "metadata": {},
   "outputs": [
    {
     "data": {
      "text/plain": [
       "[1, 2, 0]"
      ]
     },
     "execution_count": 75,
     "metadata": {},
     "output_type": "execute_result"
    }
   ],
   "source": [
    "clusters"
   ]
  },
  {
   "cell_type": "code",
   "execution_count": 76,
   "metadata": {
    "collapsed": true
   },
   "outputs": [],
   "source": [
    "#data.columns.tolist()"
   ]
  },
  {
   "cell_type": "code",
   "execution_count": 82,
   "metadata": {},
   "outputs": [
    {
     "name": "stdout",
     "output_type": "stream",
     "text": [
      "Top terms per cluster:\n",
      "3\n",
      "Cluster 0:\n",
      " riley\n",
      " bridget\n",
      " ahg\n",
      " pinterest\n",
      " facebook\n",
      " dh\n",
      " seurat\n",
      " yeah\n",
      " abstract\n",
      " stripe\n",
      "Cluster 1:\n",
      " sherman\n",
      " cindy\n",
      " vuitton\n",
      " whitney\n",
      " gala\n",
      " retrieved\n",
      " metro\n",
      " makeup\n",
      " sublimation\n",
      " access\n",
      "Cluster 2:\n",
      " richter\n",
      " gerhard\n",
      " polke\n",
      " cologne\n",
      " moreread\n",
      " pärt\n",
      " cathedral\n",
      " oct\n",
      " arvo\n",
      " abstract\n"
     ]
    }
   ],
   "source": [
    "print(\"Top terms per cluster:\")\n",
    "order_centroids = km.cluster_centers_.argsort()[:, ::-1]\n",
    "terms = data.columns.tolist()\n",
    "print(num_cluster)\n",
    "\n",
    "for i in range(num_cluster):\n",
    "    print(\"Cluster %d:\" % i),\n",
    "    for ind in order_centroids[i, :10]:\n",
    "        print(' %s' % terms[ind])\n",
    "    print\n"
   ]
  },
  {
   "cell_type": "code",
   "execution_count": 79,
   "metadata": {},
   "outputs": [
    {
     "data": {
      "text/plain": [
       "array([6967, 1321, 8378])"
      ]
     },
     "execution_count": 79,
     "metadata": {},
     "output_type": "execute_result"
    }
   ],
   "source": [
    "order_centroids[1, :3]"
   ]
  },
  {
   "cell_type": "code",
   "execution_count": 80,
   "metadata": {},
   "outputs": [
    {
     "data": {
      "text/plain": [
       "array([[6521,  945,  162, ..., 5131, 5132,    0],\n",
       "       [6967, 1321, 8378, ..., 5293, 5294,    0],\n",
       "       [6485, 3163, 5797, ..., 5751, 5753, 4336]])"
      ]
     },
     "execution_count": 80,
     "metadata": {},
     "output_type": "execute_result"
    }
   ],
   "source": [
    "order_centroids"
   ]
  },
  {
   "cell_type": "code",
   "execution_count": 83,
   "metadata": {},
   "outputs": [
    {
     "data": {
      "text/plain": [
       "'\\nfrom sklearn.feature_extraction.text import TfidfVectorizer\\nfrom sklearn.cluster import KMeans\\nfrom sklearn.metrics import adjusted_rand_score\\n\\ndocuments = [\"This little kitty came to play when I was eating at a restaurant.\",\\n             \"Merley has the best squooshy kitten belly.\",\\n             \"Google Translate app is incredible.\",\\n             \"If you open 100 tab in google you get a smiley face.\",\\n             \"Best cat photo I\\'ve ever taken.\",\\n             \"Climbing ninja cat.\",\\n             \"Impressed with google map feedback.\",\\n             \"Key promoter extension for Google Chrome.\"]\\n\\nvectorizer = TfidfVectorizer(stop_words=\\'english\\')\\nX = vectorizer.fit_transform(documents)\\n\\ntrue_k = 2\\nmodel = KMeans(n_clusters=true_k, init=\\'k-means++\\', max_iter=100, n_init=1)\\nmodel.fit(X)\\n\\nprint(\"Top terms per cluster:\")\\norder_centroids = model.cluster_centers_.argsort()[:, ::-1]\\nterms = vectorizer.get_feature_names()\\nfor i in range(true_k):\\n    print(\"Cluster %d:\" % i),\\n    for ind in order_centroids[i, :4]:\\n        print(\\' %s\\' % terms[ind]),\\n    print\\n'"
      ]
     },
     "execution_count": 83,
     "metadata": {},
     "output_type": "execute_result"
    }
   ],
   "source": [
    "'''\n",
    "from sklearn.feature_extraction.text import TfidfVectorizer\n",
    "from sklearn.cluster import KMeans\n",
    "from sklearn.metrics import adjusted_rand_score\n",
    "\n",
    "documents = [\"This little kitty came to play when I was eating at a restaurant.\",\n",
    "             \"Merley has the best squooshy kitten belly.\",\n",
    "             \"Google Translate app is incredible.\",\n",
    "             \"If you open 100 tab in google you get a smiley face.\",\n",
    "             \"Best cat photo I've ever taken.\",\n",
    "             \"Climbing ninja cat.\",\n",
    "             \"Impressed with google map feedback.\",\n",
    "             \"Key promoter extension for Google Chrome.\"]\n",
    "\n",
    "vectorizer = TfidfVectorizer(stop_words='english')\n",
    "X = vectorizer.fit_transform(documents)\n",
    "\n",
    "true_k = 2\n",
    "model = KMeans(n_clusters=true_k, init='k-means++', max_iter=100, n_init=1)\n",
    "model.fit(X)\n",
    "\n",
    "print(\"Top terms per cluster:\")\n",
    "order_centroids = model.cluster_centers_.argsort()[:, ::-1]\n",
    "terms = vectorizer.get_feature_names()\n",
    "for i in range(true_k):\n",
    "    print(\"Cluster %d:\" % i),\n",
    "    for ind in order_centroids[i, :4]:\n",
    "        print(' %s' % terms[ind]),\n",
    "    print\n",
    "'''"
   ]
  },
  {
   "cell_type": "code",
   "execution_count": 84,
   "metadata": {},
   "outputs": [
    {
     "name": "stdout",
     "output_type": "stream",
     "text": [
      "\n",
      "\n"
     ]
    }
   ],
   "source": [
    "import os  # for os.path.basename\n",
    "\n",
    "import matplotlib.pyplot as plt\n",
    "import matplotlib as mpl\n",
    "\n",
    "from sklearn.manifold import MDS\n",
    "\n",
    "MDS()\n",
    "\n",
    "# convert two components as we're plotting points in a two-dimensional plane\n",
    "# \"precomputed\" because we provide a distance matrix\n",
    "# we will also specify `random_state` so the plot is reproducible.\n",
    "mds = MDS(n_components=2, dissimilarity=\"precomputed\", random_state=1)\n",
    "\n",
    "pos = mds.fit_transform(dist)  # shape (n_components, n_samples)\n",
    "\n",
    "xs, ys = pos[:, 0], pos[:, 1]\n",
    "print()\n",
    "print()"
   ]
  },
  {
   "cell_type": "code",
   "execution_count": 87,
   "metadata": {
    "collapsed": true
   },
   "outputs": [],
   "source": [
    "#set up colors per clusters using a dict\n",
    "cluster_colors = {0: '#1b9e77', 1: '#d95f02', 2: '#7570b3'}\n",
    "\n",
    "#set up cluster names using a dict\n",
    "cluster_names = {0: 'abstract, painting', \n",
    "                 1: 'vuitton,whitney,gala', \n",
    "                 2: 'polke,cologne,moreread'}\n"
   ]
  },
  {
   "cell_type": "code",
   "execution_count": 89,
   "metadata": {
    "collapsed": true
   },
   "outputs": [],
   "source": [
    "#some ipython magic to show the matplotlib plots inline\n",
    "%matplotlib inline \n",
    "\n",
    "#create data frame that has the result of the MDS plus the cluster numbers and titles\n",
    "df = pd.DataFrame(dict(x=xs, y=ys, label=clusters)) \n",
    "\n",
    "#group by cluster\n",
    "groups = df.groupby('label')"
   ]
  },
  {
   "cell_type": "code",
   "execution_count": 92,
   "metadata": {},
   "outputs": [
    {
     "name": "stderr",
     "output_type": "stream",
     "text": [
      "/anaconda3/lib/python3.6/site-packages/matplotlib/cbook/deprecation.py:107: MatplotlibDeprecationWarning: Passing one of 'on', 'true', 'off', 'false' as a boolean is deprecated; use an actual boolean (True/False) instead.\n",
      "  warnings.warn(message, mplDeprecation, stacklevel=1)\n"
     ]
    },
    {
     "data": {
      "text/plain": [
       "<matplotlib.legend.Legend at 0x1a2415d470>"
      ]
     },
     "execution_count": 92,
     "metadata": {},
     "output_type": "execute_result"
    },
    {
     "data": {
      "image/png": "[encoded data removed]",
      "text/plain": [
       "<Figure size 1224x648 with 1 Axes>"
      ]
     },
     "metadata": {},
     "output_type": "display_data"
    }
   ],
   "source": [
    "# set up plot\n",
    "fig, ax = plt.subplots(figsize=(17, 9)) # set size\n",
    "ax.margins(0.05) # Optional, just adds 5% padding to the autoscaling\n",
    "\n",
    "#iterate through groups to layer the plot\n",
    "#note that I use the cluster_name and cluster_color dicts with the 'name' lookup to return the appropriate color/label\n",
    "for name, group in groups:\n",
    "    ax.plot(group.x, group.y, marker='o', linestyle='', ms=12, \n",
    "            label=cluster_names[name], color=cluster_colors[name], \n",
    "            mec='none')\n",
    "    ax.set_aspect('auto')\n",
    "    ax.tick_params(\\\n",
    "        axis= 'x',          # changes apply to the x-axis\n",
    "        which='both',      # both major and minor ticks are affected\n",
    "        bottom='off',      # ticks along the bottom edge are off\n",
    "        top='off',         # ticks along the top edge are off\n",
    "        labelbottom='off')\n",
    "    ax.tick_params(\\\n",
    "        axis= 'y',         # changes apply to the y-axis\n",
    "        which='both',      # both major and minor ticks are affected\n",
    "        left='off',      # ticks along the bottom edge are off\n",
    "        top='off',         # ticks along the top edge are off\n",
    "        labelleft='off')\n",
    "    \n",
    "ax.legend(numpoints=1)  #show legend with only 1 point\n",
    "\n",
    "#add label in x,y position with the label as the film title\n",
    "#for i in range(len(df)):\n",
    "#    ax.text(df.ix[i]['x'], df.ix[i]['y'], size=8)  \n",
    "\n",
    "  "
   ]
  },
  {
   "cell_type": "code",
   "execution_count": null,
   "metadata": {
    "collapsed": true
   },
   "outputs": [],
   "source": []
  }
 ],
 "metadata": {
  "kernelspec": {
   "display_name": "Python 3",
   "language": "python",
   "name": "python3"
  },
  "language_info": {
   "codemirror_mode": {
    "name": "ipython",
    "version": 3
   },
   "file_extension": ".py",
   "mimetype": "text/x-python",
   "name": "python",
   "nbconvert_exporter": "python",
   "pygments_lexer": "ipython3",
   "version": "3.6.3"
  }
 },
 "nbformat": 4,
 "nbformat_minor": 2
}
